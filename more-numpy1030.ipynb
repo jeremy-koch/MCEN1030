{
 "cells": [
  {
   "cell_type": "markdown",
   "id": "f287a55f-8aa8-43cc-b4cb-44af191712eb",
   "metadata": {},
   "source": [
    "# Matplotlib and more NumPy -- MCEN 1030 -- 29 Oct\n",
    "\n",
    "Today:\n",
    "- Matplotlib for plotting\n",
    "- Some NumPy problems"
   ]
  },
  {
   "attachments": {},
   "cell_type": "markdown",
   "id": "63b9d4c4-18ad-46e2-8c7c-5fb141b435b1",
   "metadata": {
    "jp-MarkdownHeadingCollapsed": true
   },
   "source": [
    "## Last time\n",
    "\n",
    "... we talked about NumPy and how it can be used to make Python, a \"high-level programming language\", a bit faster and more convenient when doing numerical calculations. Important, e.g. in Computational Fluid Dynamics, where you may have 500k \"cells\", and the solution is obtained iteratively."
   ]
  },
  {
   "cell_type": "markdown",
   "id": "94994ea0-659a-4e9a-bd26-d031ea797b51",
   "metadata": {},
   "source": [
    "## Problem 1:\n",
    "\n",
    "- Bring in the numpy package and call it np\n",
    "- Create a time array that spans 0 to 10 with 1000 points\n",
    "- Use np.sin(...) and np.absolute(...) to calculate $y=\\left|\\sin{(t)}\\right|$\n"
   ]
  },
  {
   "cell_type": "code",
   "execution_count": 6,
   "id": "e7a068e0-7e5e-46f4-b2fd-3b5b19178211",
   "metadata": {},
   "outputs": [
    {
     "name": "stdout",
     "output_type": "stream",
     "text": [
      "0.9999996994977832\n"
     ]
    }
   ],
   "source": [
    "# code here\n",
    "import numpy as np\n",
    "\n",
    "t=np.linspace(0,10,1000)\n",
    "y=np.absolute(np.sin(t))\n",
    "print(np.max(y))"
   ]
  },
  {
   "cell_type": "markdown",
   "id": "a00b7d96-21dc-4e97-85ff-ccacbf11c033",
   "metadata": {},
   "source": [
    "## Matplotlib\n",
    "\n",
    "Python and NumPy don't have plotting tools, or at least not good ones. So let's bring in another package, one that specializes in plotting: Matplotlib.\n",
    "\n",
    "It is a rip-off of MATLAB's plot... I think the creators even admit it. To plot two arrays (assuming you imported the relevant package and called it plt):\n",
    "\n",
    "    plt.plot(x,y)\n",
    "    plt.show() # not necessary in Jupyter, but necessary in a py file\n",
    "\n",
    "and we can change colors and line styles with\n",
    "\n",
    "    plt.plot(x,y,'b-')\n",
    "\n",
    "just like in MATLAB.\n",
    "\n",
    "### Problem 2:\n",
    "\n",
    "Define a function that creates a major chord. The inputs are the time variable, t, the fundamental frequency, w, and the amplitudes of the three notes, A1, A3, A5. The major third frequency is 5/4 that of the fundamental frequency, and the perfect fifth frequency is 3/2 that of the fundamental frequency. So... \n",
    "\n",
    "$$y=A_1 \\sin{(\\omega t)}+A_3 \\sin{(5\\omega t/4)}+A_5 \\sin{(3\\omega t/2)}$$\n",
    "The output will be y, an output signal for each time value. Once you have returned the signal, create a plot of y(t) using Matplotlib.\n",
    "\n"
   ]
  },
  {
   "cell_type": "code",
   "execution_count": 9,
   "id": "af0ca2fa-e03e-4702-82c5-4d3add2aed24",
   "metadata": {},
   "outputs": [
    {
     "data": {
      "image/png": "[encoded data removed]",
      "text/plain": [
       "<Figure size 640x480 with 1 Axes>"
      ]
     },
     "metadata": {},
     "output_type": "display_data"
    }
   ],
   "source": [
    "import numpy as np # technically we don't need to import this again\n",
    "import matplotlib.pyplot as plt # there are more things in this package, but this is the one you'll mostly be using.\n",
    "\n",
    "# code here\n",
    "def majorchord(t,w,A1,A3,A5):\n",
    "    y=A1*np.sin(w*t)+A3*np.sin(5/4*w*t)+A5*np.sin(3/2*w*t)\n",
    "    return y\n",
    "\n",
    "# Create a time array that spans 0 to 10 with 1000 points\n",
    "t_in=np.linspace(0,10,1000)\n",
    "\n",
    "# call the function with whatever inputs you like\n",
    "y_out=majorchord(t_in,2.1,1,0.5,0.4)\n",
    "\n",
    "# plot the signal\n",
    "plt.plot(t_in,y_out,'r-')\n",
    "plt.show()\n"
   ]
  },
  {
   "cell_type": "markdown",
   "id": "4ff619ae-c055-4115-9b1f-907dce4c6e30",
   "metadata": {},
   "source": [
    "### Problem 3:\n",
    "\n",
    "How could we determine the solution to $5\\sin{(\\ln(x))}=1$ between $10 \\leq x \\leq 30$?\n",
    "\n",
    "\n",
    "\n",
    "\n",
    "\n",
    "We can create an array $x$ with pretty fine detail over that range, and then find the minimum of the **absolute value** of $5\\sin{(\\ln(x))}-1$. We will try writing it out with np.absolute(...), np.log(...), np.argmin(...) (which returns the INDEX at which the minimum occurs) ... \n",
    "\n",
    "There are a few downsides to this approach:\n",
    "- This is a \"brute-force\" method, meaning we test/operate on literally every point. In MCEN 3030 we won't let you use this approach... there are more elegant methods in which we could solve this using a small fraction of the operations.\n",
    "- Related: there is a trade-off... we can test fewer points to make it faster, but our accuracy is always $\\pm(\\text{the x spacing})$.\n",
    "- What if the solution can't be found in the range."
   ]
  },
  {
   "cell_type": "code",
   "execution_count": 11,
   "id": "02a8a7a1-09af-4641-96b9-92052fd52750",
   "metadata": {},
   "outputs": [
    {
     "name": "stdout",
     "output_type": "stream",
     "text": [
      "22\n",
      "0.015336498933437137\n"
     ]
    }
   ],
   "source": [
    "# code here\n",
    "\n",
    "x=np.linspace(10,30,50)\n",
    "y=np.absolute(5*np.sin(np.log(x))-1)\n",
    "idx=np.argmin(y)\n",
    "print(idx)\n",
    "print(y[idx])"
   ]
  }
 ],
 "metadata": {
  "kernelspec": {
   "display_name": "Python 3 (ipykernel)",
   "language": "python",
   "name": "python3"
  },
  "language_info": {
   "codemirror_mode": {
    "name": "ipython",
    "version": 3
   },
   "file_extension": ".py",
   "mimetype": "text/x-python",
   "name": "python",
   "nbconvert_exporter": "python",
   "pygments_lexer": "ipython3",
   "version": "3.12.4"
  }
 },
 "nbformat": 4,
 "nbformat_minor": 5
}
