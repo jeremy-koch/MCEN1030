{
 "cells": [
  {
   "cell_type": "markdown",
   "id": "f858097b-8b61-4291-b376-91c892454c9e",
   "metadata": {},
   "source": [
    "# Lab 7: \"try\""
   ]
  },
  {
   "cell_type": "markdown",
   "id": "3643fa18-c25d-46b4-9d62-48e2a2f0aad8",
   "metadata": {},
   "source": [
    "## The basic idea\n",
    "We can ask python to \"try\" something, and if it doesn't work, can give alternative instructions. An example: this code will produce an error..."
   ]
  },
  {
   "cell_type": "code",
   "execution_count": null,
   "id": "2f3d821f-68c8-4eb6-ae73-0165d9b9eefb",
   "metadata": {},
   "outputs": [],
   "source": [
    "def explodes1(x):\n",
    "    # this function will create an error if x=0, called a \"ZeroDivisionError\"\n",
    "    return 1/x\n",
    "\n",
    "y=explodes1(0)"
   ]
  },
  {
   "cell_type": "markdown",
   "id": "898f6869-8c3c-4c32-9bd4-40232cbd1e44",
   "metadata": {},
   "source": [
    "... but we can anticipate that error and give some instructions for what to do if the error pops up:"
   ]
  },
  {
   "cell_type": "code",
   "execution_count": null,
   "id": "6dc44b7e-9f24-4b80-a2be-d9a4ad81b1f7",
   "metadata": {},
   "outputs": [],
   "source": [
    "def explodes2(x):\n",
    "    # let's have this function return 1/x as long as x is not 0,\n",
    "    # and returns 999 if x is 0\n",
    "    try:\n",
    "        return 1/x\n",
    "    except ZeroDivisionError: # except looks for an error. \n",
    "        return 999\n",
    "\n",
    "y=explodes2(0)\n",
    "print(y)\n",
    "# no errors!"
   ]
  },
  {
   "cell_type": "markdown",
   "id": "5a6ef048-305a-45db-8c99-d7ca406afa77",
   "metadata": {},
   "source": [
    "Just \"except\", without the ZeroDivisionError, would work fine. However, we may want to cater to specific error types..."
   ]
  },
  {
   "cell_type": "markdown",
   "id": "093d521c-9ab8-4caa-9fc8-06357920e7e0",
   "metadata": {},
   "source": [
    "## An incomplete list of basic error messages\n",
    "\n",
    "... at least ones that aren't based on coding mistakes!"
   ]
  },
  {
   "cell_type": "code",
   "execution_count": null,
   "id": "d9169643-af65-4492-857d-cb41ff2b1340",
   "metadata": {},
   "outputs": [],
   "source": [
    "# ZeroDivisionError\n",
    "x=0\n",
    "5/x"
   ]
  },
  {
   "cell_type": "code",
   "execution_count": null,
   "id": "0e09a61b-27c6-4812-af83-fe9c330727f4",
   "metadata": {},
   "outputs": [],
   "source": [
    "# TypeError\n",
    "x='banana'\n",
    "5/x"
   ]
  },
  {
   "cell_type": "code",
   "execution_count": null,
   "id": "53537bf1-614a-45e6-a517-7e48cb0aab6e",
   "metadata": {},
   "outputs": [],
   "source": [
    "# IndexError\n",
    "list=[5,99,11,12]\n",
    "list[9]"
   ]
  },
  {
   "cell_type": "code",
   "execution_count": null,
   "id": "c373a530-ae6b-4c62-a6e3-2d32870400fd",
   "metadata": {},
   "outputs": [],
   "source": [
    "# KeyError\n",
    "fellowship = {}\n",
    "fellowship['Aragorn'] = 'Human'\n",
    "fellowship['Gimli'] = 'Dwarf'\n",
    "fellowship['Legolas'] = 'Elf'\n",
    "fellowship['Gandalf'] = 'Maia'\n",
    "\n",
    "fellowship['Sauron']"
   ]
  },
  {
   "cell_type": "markdown",
   "id": "edb316ac-12ff-4d8c-a863-165e8c9061ac",
   "metadata": {},
   "source": [
    "## Lab Problem\n",
    "We are going to write a function called check_status that does the following: There will be two inputs, a dictionary (defined below) and a value to be looked up in the dictionary. Within the function, you will define a second dictionary, called units. The units dictionary will include 'inlet_pressure', 'outlet_pressure', 'inlet_temperature', 'outlet_temperature', and 'concentration'. The corresponding units will be 'atm' for all pressures, 'degF' for all temperatures, and 'ppm' for the concentration.\n",
    "\n",
    "If your function finds the key in the dictionary, it will print the keyword, the associated value from status, along with the associated units from units. It will return nothing. If it does not find the key, it will print \"Sorry, key not found\" and return nothing.\n",
    "\n",
    "Hint: print(i,j)\n",
    "\n",
    "Warning: We have purposefully introduced errors in this notebook. If you submit the notebook in its entirety, it will not cooperate with the autograder! You can do one of three things:\n",
    "1. As we did in class, you can export a .py file from this notebook and edit it in a text editor to remove all the excess.\n",
    "2. You can create a new notebook file that just includes your code, and export and submit that.\n",
    "3. You can work within an IDE such as spyder (if it works... looks like it might not on Mac)."
   ]
  },
  {
   "cell_type": "code",
   "execution_count": 7,
   "id": "7dd4a744-baea-45df-82a6-b12561df0cb9",
   "metadata": {},
   "outputs": [],
   "source": [
    "status={}\n",
    "status['inlet_pressure']=40.13\n",
    "# `outlet_pressure' is not given in this dictionary\n",
    "status['inlet_temperature']=212.4\n",
    "status['outlet_temperature']=518.1\n",
    "status['concentration']=13.4\n",
    "\n",
    "# code down here! Two inputs, behavior described as above."
   ]
  }
 ],
 "metadata": {
  "kernelspec": {
   "display_name": "Python 3 (ipykernel)",
   "language": "python",
   "name": "python3"
  },
  "language_info": {
   "codemirror_mode": {
    "name": "ipython",
    "version": 3
   },
   "file_extension": ".py",
   "mimetype": "text/x-python",
   "name": "python",
   "nbconvert_exporter": "python",
   "pygments_lexer": "ipython3",
   "version": "3.12.4"
  }
 },
 "nbformat": 4,
 "nbformat_minor": 5
}
