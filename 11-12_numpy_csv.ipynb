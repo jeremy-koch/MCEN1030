{
 "cells": [
  {
   "cell_type": "markdown",
   "id": "a3012aa3-8fde-4e39-8f08-8a724304e32b",
   "metadata": {},
   "source": [
    "# Loading a csv into NumPy -- MCEN 1030 -- 12 Nov\n",
    "Today we will...\n",
    "- Reminisce about matrix math from last class\n",
    "- Learn how to import *.csv files into NumPy, and export them too.\n",
    "- In-class problem related to examining data set for power-law growth"
   ]
  },
  {
   "cell_type": "markdown",
   "id": "a07ef050-d54e-412e-9c57-7b5076b91dd2",
   "metadata": {},
   "source": [
    "## Last class: matrix math\n",
    "\n",
    "Let's warm up by reminding ourselves of some matrix math. Remember that  \n",
    "\n",
    "    np.array([[1,2,3]]) # makes a row vector\n",
    "    np.array([[4,5,6],[7,8,9]) # makes a matrix\n",
    "    np.array([[11],[12],[13]) # makes a column vector\n",
    "\n",
    "and to do some matrix multiplication, $Ax = ?$:\n",
    "    \n",
    "    np.dot(A,x)\n",
    "\n",
    "Below, let's code the following:\n",
    "- create a set of x values from 0 to 1 (50 should do)\n",
    "- then create some y values based on the equation $y=x^2$\n",
    "- then we will rotate the points via the matrix transformation (recall HW4):\n",
    "$$\\begin{bmatrix}\\cos\\theta & -\\sin\\theta\\\\ \\sin\\theta & \\cos\\theta\\end{bmatrix}\\begin{bmatrix}x\\\\ y \\end{bmatrix}=\\begin{bmatrix}x_\\text{new}\\\\ y_\\text{new}\\end{bmatrix}$$\n",
    "- plot both data sets\n",
    "\n",
    "Note: because the output of np.dot(A,x) will be a 2-row, 1-column vector, we will need to use v[0,0] when accessing the information in the output. I'll leave it to you to troubleshoot whether the other component is v[1,0] or v[0,1]. Think about it, then check with your neighbor."
   ]
  },
  {
   "cell_type": "code",
   "execution_count": null,
   "id": "0e3cd15a-e143-47c4-84f1-72f91e09b564",
   "metadata": {},
   "outputs": [],
   "source": [
    "import numpy as np\n",
    "import matplotlib.pyplot as plt\n",
    "pi=np.pi\n",
    "theta=pi/4 # 45 degrees\n",
    "\n",
    "# code here\n"
   ]
  },
  {
   "cell_type": "markdown",
   "id": "3689f68f-5c08-494c-beaa-b382b13636a1",
   "metadata": {},
   "source": [
    "## Importing comma-separated value files into NumPy\n",
    "\n",
    "Here is the command that does the job:\n",
    "\n",
    "    data = np.loadtxt(\"some_data.csv\", delimiter=\",\")\n",
    "\n",
    "This creates a numpy array called \"data\" which we can slice up however we like. E.g.\n",
    "    \n",
    "    col0=data[:,0]\n",
    "\n",
    "gets you the zeroth (first) column.\n",
    "\n",
    "Let's dive straight in and do a problem. Put 11-12_data1.csv in the folder you are working in, then write code that...\n",
    "- imports the csv into a 2D array\n",
    "- breaks that 2D array up into a 1D array for the zeroth column, called x, and the other column is y\n",
    "- plots, to see what that initial data looks like\n",
    "- then, in a second cell, performs the following matrix manipulation, with $m=4.1$\n",
    "$$\\begin{bmatrix}1 & m\\\\ 0 & 1\\end{bmatrix}\\begin{bmatrix}x\\\\ y \\end{bmatrix}=\\begin{bmatrix}x_\\text{new}\\\\ y_\\text{new}\\end{bmatrix}$$\n",
    "- plots the resulting collection of points"
   ]
  },
  {
   "cell_type": "code",
   "execution_count": 1,
   "id": "bba88d19-1ff2-41b5-b809-31f86cd3949d",
   "metadata": {},
   "outputs": [],
   "source": [
    "# code here"
   ]
  },
  {
   "cell_type": "code",
   "execution_count": null,
   "id": "286b3bd1-73cf-4c1e-9474-2a88a108536c",
   "metadata": {},
   "outputs": [],
   "source": [
    "# process the data and makes a plot of the processed data"
   ]
  },
  {
   "cell_type": "markdown",
   "id": "e7545cf8-afc4-49cd-85d2-a072826e2af6",
   "metadata": {},
   "source": [
    "## Saving a csv\n",
    "\n",
    "If you'd like to save data as a csv, you might find the command \n",
    "\n",
    "    M=np.c_[col0,col1]\n",
    "    \n",
    "useful... \"concatenate column 0 and column 1\". Then:\n",
    "\n",
    "    np.savetxt(\"processed_data.csv\", M, delimiter=\",\")"
   ]
  },
  {
   "cell_type": "markdown",
   "id": "c13a759b-1c6c-426c-8347-329f63e6c38d",
   "metadata": {},
   "source": [
    "## in-class problem\n",
    "\"Moore's Law\", proposed in 1965, predicts that computing power will double every two years. More precisely: the number of transistors on a chip will double every two years... so if there were 5,000 in a chip from 1970, it would be 10,000 by 1972, then 20,000 by 1974, then 40,000 by 1976. The equation that describes this is\n",
    "$$y = y_0\\cdot 2^{(n-n_0)/2}$$\n",
    "where $y$ is the number of transistors in year $n$, with $y_0$ the value at some reference year, $n_0$.\n",
    "\n",
    "Put 11-12_moore_data.csv in your working folder. It includes data (taken from https://en.wikipedia.org/wiki/Moore%27s_law via https://web.eecs.utk.edu/~dcostine/personal/PowerDeviceLib/DigiTest/index.html) on the historical number of transistors in microprocessors.\n",
    "\n",
    "In the code space below:\n",
    "- Import the data set and break it up into two (1D) numpy arrays.\n",
    "- Create a set of \"theoretical\" values for years from 1971 to 2019 based on the above equation. Use the zeroth data point from the data set as the values for $y_0$ and $n_0$.\n",
    "- Plot the data using plt.semilogy(...,'.') and the theoretical curve using plt.semilogy(...,'-'), where you'll fill in the ...'s.\n",
    "- Report to the Canvas quiz the difference between the theoretical prediction in 2019 and the final data point in the data set divided by the final data point in the data set. (Thus, it is something like a percent error, though don't multiply it by 100.) E.g., if your theoretical curve predicts 518, and the last data point is 550, you would find\n",
    "$$ \\frac{518-550}{550} = -0.0581$$\n",
    "(Report to four digits past the decimal.)"
   ]
  },
  {
   "cell_type": "code",
   "execution_count": null,
   "id": "f2418d5f-9e72-4760-83d3-beaf78fe344e",
   "metadata": {},
   "outputs": [],
   "source": [
    "# code in here"
   ]
  },
  {
   "cell_type": "markdown",
   "id": "4ac1cdf4-4bb7-4b7d-95f0-284da5c3aa94",
   "metadata": {},
   "source": [
    "## A big-picture question\n",
    "Your phone is something like 100,000 time more powerful than the navigation computer on the Apollo 11. Increased computational power, and increased access to that power, has lead to amazing innovations. \n",
    "\n",
    "But is it concerning that machine learning/AI data centers are consuming about as much power as GERMANY?! How can we balance the development/use of this technology with the need to move away from cheap fossil fuels?\n",
    "\n",
    "\"Fixing AI’s energy crisis\" https://www.nature.com/articles/d41586-024-03408-z "
   ]
  }
 ],
 "metadata": {
  "kernelspec": {
   "display_name": "Python 3 (ipykernel)",
   "language": "python",
   "name": "python3"
  },
  "language_info": {
   "codemirror_mode": {
    "name": "ipython",
    "version": 3
   },
   "file_extension": ".py",
   "mimetype": "text/x-python",
   "name": "python",
   "nbconvert_exporter": "python",
   "pygments_lexer": "ipython3",
   "version": "3.12.4"
  }
 },
 "nbformat": 4,
 "nbformat_minor": 5
}
