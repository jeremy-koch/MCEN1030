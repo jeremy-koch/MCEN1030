{
 "cells": [
  {
   "cell_type": "markdown",
   "id": "b834af55-8263-48b4-90bb-8438fdfb32be",
   "metadata": {},
   "source": [
    "# Classes -- MCEN 1030 -- 31 Oct\n",
    "Let's talk about object-oriented programming (just a bit) and introduce Python classes."
   ]
  },
  {
   "cell_type": "markdown",
   "id": "a1dd4289-239b-4681-84e0-a941b3174c66",
   "metadata": {},
   "source": [
    "## Object-Oriented Programming\n",
    "\n",
    "In Python (and in a lot of languages, including MATLAB), we can pass variables to functions. It seems intuitive to call variables \"objects\". We can also pass functions to functions. Functions are objects too. These are two different \"classes\" of objects... and actually, variables can be scalars or lists or numpy arrays. Those are different classes, and we can do different things with different classes of objects.\n",
    "\n",
    "For objects that are lists, there are special attributes: for example,"
   ]
  },
  {
   "cell_type": "code",
   "execution_count": 9,
   "id": "12f7b123-26a1-4a86-a3a3-079298e7b775",
   "metadata": {},
   "outputs": [
    {
     "name": "stdout",
     "output_type": "stream",
     "text": [
      "[0, 1, 2, 3, 4]\n",
      "[0, 1, 2, 3, 4, 5]\n"
     ]
    }
   ],
   "source": [
    "# For basic python lists, but not numpy arrays unfortunately, \"append\":\n",
    "x=[0,1,2,3,4]\n",
    "print(x)\n",
    "x.append(5) # append this value to the list\n",
    "print(x)"
   ]
  },
  {
   "cell_type": "code",
   "execution_count": 11,
   "id": "ec10a97b-f65d-431f-88ff-cbb2a6bf9556",
   "metadata": {},
   "outputs": [
    {
     "name": "stdout",
     "output_type": "stream",
     "text": [
      "[0, 1, 2, 3, 4]\n",
      "[1, 2, 3, 4]\n",
      "[1, 2, 4]\n"
     ]
    }
   ],
   "source": [
    "# Lists also have \"pop\":\n",
    "x=[0,1,2,3,4]\n",
    "print(x)\n",
    "x.pop(0) # remove the zeroth element\n",
    "print(x)\n",
    "x.pop(2)\n",
    "print(x)"
   ]
  },
  {
   "cell_type": "code",
   "execution_count": 13,
   "id": "3cfe255e-b4e2-470f-bcff-d36297d268d7",
   "metadata": {},
   "outputs": [
    {
     "name": "stdout",
     "output_type": "stream",
     "text": [
      "5\n"
     ]
    }
   ],
   "source": [
    "# numpy arrays can't do those things, but do have...\n",
    "import numpy as np\n",
    "x=np.array([0,1,2,3,4])\n",
    "print(x.size)"
   ]
  },
  {
   "cell_type": "markdown",
   "id": "3737f376-91ca-4beb-a887-84fddb993ee7",
   "metadata": {},
   "source": [
    "## Some vocabulary\n",
    "\n",
    "Most items we manipulate in Python can be called \"objects\" and the objects belong to different \"classes\". Classes have properties and methods."
   ]
  },
  {
   "cell_type": "markdown",
   "id": "87646945-cda6-4c5f-b10b-d47a80ddd477",
   "metadata": {},
   "source": [
    "## Building a class, and a variable that is of that class\n",
    "\n",
    "This is a pretty useful scenario, I think. Let's build a class called \"line\". It will have four basic properties: x1, y1, x2, and y2... the coordinates of two points on the line. For an object that is part of this class, called, say, u, it would be really neat to have quick access to the following information: \n",
    "- u.slope() would give the slope between those two points\n",
    "- u.yintercept() the y-intercept\n",
    "- u.length() the distance between the points\n",
    "- and something really cool: we can make u.plot() produce a plot the line between the points.\n",
    "- and we'll add one more thing later...\n",
    "\n",
    "These will basically be programmed in as functions underneath the \"class\" umbrella.\n",
    "\n",
    "As is tradition in python, the notation will be a bit clumsy. But there is no doubt that it is convenient to retrieve information in this way, once we get it set up. Let's make it happen! Here is the starting point, and we will add a bunch to this cell:"
   ]
  },
  {
   "cell_type": "code",
   "execution_count": 62,
   "id": "fc505b13-3023-4498-b9fd-435c815bb64d",
   "metadata": {},
   "outputs": [],
   "source": [
    "import numpy as np\n",
    "import matplotlib.pyplot as plt\n",
    "\n",
    "class line:                # we declare that we are defining a new class called \"line\"\n",
    "    def __init__(self,x1,y1,x2,y2):\n",
    "        # this describes the fundamental properties of the class\n",
    "        # i.e., the information needed to construct the class.\n",
    "        # It does not need to be \"self\" but it is common to do so,\n",
    "        # just be consistent!\n",
    "        \n",
    "        self.x1=x1 # the a.b notation is \"b is an attribute of a\", and a.b has a value\n",
    "        self.y1=y1\n",
    "        self.x2=x2\n",
    "        self.y2=y2\n",
    "\n",
    "        self.slope=(y2-y1)/(x2-x1)\n",
    "\n",
    "    #def slope(self):\n",
    "    #    m=(self.y2-self.y1)/(self.x2-self.x1)\n",
    "    #    return m\n",
    "    \n",
    "    # could be done without the function as well...\n",
    "    \n",
    "    def plot(self):\n",
    "        xs=np.linspace(self.x1,self.x2,500)\n",
    "        ys=self.slope()*(xs-self.x1)+self.y1\n",
    "        plt.plot(xs,ys,'r-')\n",
    "        plt.show()\n",
    "        return \"Plot generated\"\n",
    "\n",
    "    def length(self):\n",
    "        #calculate the length using numpy\n",
    "        pass\n",
    "\n",
    "    def hotdog(self,L_JAK):\n",
    "        pass\n",
    "        # return \"bigger than a hotdog\" >\n",
    "        # or \"smaller than a hotdog\n",
    "        "
   ]
  },
  {
   "cell_type": "markdown",
   "id": "eedad869-ad4e-45ca-899a-eb1f5289f1b3",
   "metadata": {},
   "source": [
    "## Creating a variable and accessing attributes\n",
    "\n",
    "Here's how to do it:"
   ]
  },
  {
   "cell_type": "code",
   "execution_count": 64,
   "id": "be6834fd-25a4-440b-b639-7d9aca6b3239",
   "metadata": {},
   "outputs": [
    {
     "name": "stdout",
     "output_type": "stream",
     "text": [
      "1.0\n"
     ]
    }
   ],
   "source": [
    "# code\n",
    "u=line(0,0,5,5)\n",
    "print(u.slope)"
   ]
  },
  {
   "cell_type": "code",
   "execution_count": 42,
   "id": "dac5823e-2ebb-43c4-a086-8bf721fa20c1",
   "metadata": {},
   "outputs": [
    {
     "name": "stdout",
     "output_type": "stream",
     "text": [
      "[0 1 4 9]\n",
      "7.0710678118654755\n"
     ]
    }
   ],
   "source": [
    "a=np.array([0,1,2,3])\n",
    "b=a**2\n",
    "\n",
    "print(b)\n",
    "print(5*np.sqrt(2))"
   ]
  }
 ],
 "metadata": {
  "kernelspec": {
   "display_name": "Python 3 (ipykernel)",
   "language": "python",
   "name": "python3"
  },
  "language_info": {
   "codemirror_mode": {
    "name": "ipython",
    "version": 3
   },
   "file_extension": ".py",
   "mimetype": "text/x-python",
   "name": "python",
   "nbconvert_exporter": "python",
   "pygments_lexer": "ipython3",
   "version": "3.12.4"
  }
 },
 "nbformat": 4,
 "nbformat_minor": 5
}
