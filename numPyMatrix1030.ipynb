{
 "cells": [
  {
   "cell_type": "markdown",
   "id": "a3012aa3-8fde-4e39-8f08-8a724304e32b",
   "metadata": {},
   "source": [
    "# NumPy Matrices -- MCEN 1030 -- 22 Oct\n",
    "Let's talk about matrices and matrix math in NumPy. We have some experience solving systems of equations like...\n",
    "$$ \\begin{align}x+y &= 3\\\\ x+y+z&=5\\\\ x-y-2z&=-1\\end{align}$$\n",
    "How did we do it in algebra? We'd try to be strategic about multiplying the equations by constants and adding equations together until we could eliminate all but one variable, then solve for that one variable, then use that to solve for the other two. In this case, maybe we'd subtract the first equation from the second, which would leave $z=2$, and then we'd plug that into the third equation to get $x-y=3$, and then add that equation to the first equation to get $2x=6$, and so we can finally conclude $x=3$, $y=0$, $z=2$.\n",
    "\n",
    "We could also write this as a matrix system, with the equations' coefficients as rows in the matrix:\n",
    "$$ \\begin{bmatrix}1 & 1 & 0\\\\ 1 & 1 & 1\\\\ 1 & -1 &-2 \\end{bmatrix}\n",
    "\\begin{bmatrix}x\\\\y\\\\z\\end{bmatrix}=\n",
    "\\begin{bmatrix}3\\\\5\\\\-1\\end{bmatrix}$$\n",
    "which we might call an $Ax=b$ problem. It is tempting to then write $x=b/A$, and that is more-or-less what happens, but there is a vast formalism surrounding what it means to divide by a matrix -- for example, is it dividing by zero if any element in the matrix is zero? Let's save that theoretical stuff for linear algebra. For now, we will just talk about some practical things:\n",
    "- Creating vectors and matrices\n",
    "- Multiplying them together\n",
    "- Solving $x=A^{-1}b$ with NumPy"
   ]
  },
  {
   "cell_type": "markdown",
   "id": "a07ef050-d54e-412e-9c57-7b5076b91dd2",
   "metadata": {},
   "source": [
    "## Making NumPy arrays$\\rightarrow$vectors and matrices"
   ]
  },
  {
   "cell_type": "markdown",
   "id": "ae65a3ad-6019-4737-8386-934f3d154d3f",
   "metadata": {},
   "source": [
    "As before, we will be using np.array(), but will include some extra details when setting up vectors/matrices for linear algebra. "
   ]
  },
  {
   "cell_type": "code",
   "execution_count": null,
   "id": "80a757bd-e54f-4878-a9b2-73612f3c108d",
   "metadata": {},
   "outputs": [],
   "source": [
    "import numpy as np\n",
    "\n",
    "u=np.array([3,5]) # this is NOT how we will be doing it when we are dealing with matrices!\n",
    "v=np.array([[3,5]]) # note the [[...]]... this is a \"row vector\"\n",
    "\n",
    "print(\"u=\",u)\n",
    "print(\"v=\",v)\n",
    "print(\"shape of u=\",u.shape)\n",
    "print(\"shape of v=\",v.shape)"
   ]
  },
  {
   "cell_type": "markdown",
   "id": "603009cd-316b-4c9c-9700-de453c9ef5b2",
   "metadata": {},
   "source": [
    "To create a matrix and column vector"
   ]
  },
  {
   "cell_type": "code",
   "execution_count": null,
   "id": "e65a049d-a6de-49d2-828d-c1d59421816c",
   "metadata": {},
   "outputs": [],
   "source": [
    "M=np.array([[1,2],[3,5]])\n",
    "w=np.array([[6],[7]])\n",
    "print(\"M=\",M)\n",
    "print(\"w=\",w)\n",
    "print(\"shape of M=\",M.shape)\n",
    "print(\"shape of w=\",w.shape)"
   ]
  },
  {
   "cell_type": "markdown",
   "id": "e7032a53-8108-4b23-994c-c6fb8be19e84",
   "metadata": {},
   "source": [
    "Another option to create a column vector is to \"transpose\" a row vector. Transpose, more generally, turns all rows into columns and columns into rows."
   ]
  },
  {
   "cell_type": "code",
   "execution_count": null,
   "id": "724fac28-d071-42e6-97a8-5e1925080c8a",
   "metadata": {},
   "outputs": [],
   "source": [
    "uT=np.transpose(u) # this doesn't work because u, defined above, is not a vector\n",
    "vT=np.transpose(v)\n",
    "print(uT)\n",
    "print(vT)"
   ]
  },
  {
   "cell_type": "markdown",
   "id": "2e419764-bb4a-4ba6-bb1a-6a09b0158779",
   "metadata": {},
   "source": [
    "## Multiplying matrices and vectors\n",
    "As is tradition when doing math in Python, the notation is a little bit clumsy. MATLAB is designed to do matrix math, and so A*v is going to multiply a matrix A by column vector v to get a column vector. There are a couple options in NumPy, but the preferred one is...  \n",
    "    \n",
    "    np.dot(A,v)\n",
    "\n",
    "Program in the matrix and solution vector x=[3,0,2]^T from above, multiply together, and make sure we get [3,5,-1]^T."
   ]
  },
  {
   "cell_type": "code",
   "execution_count": null,
   "id": "00672f40-d0e6-4fe4-8dcf-18a48ea9c22d",
   "metadata": {},
   "outputs": [],
   "source": [
    "# code here"
   ]
  },
  {
   "cell_type": "markdown",
   "id": "5e9a6ce5-de25-4f5b-8037-8e646ebe9b7d",
   "metadata": {},
   "source": [
    "## Solving $Ax=b$\n",
    "\n",
    "The basic solve is achieved with  \n",
    "    \n",
    "    x = np.linalg.solve(A,b)\n",
    "\n",
    "Implement the matrix and column vector from the intro to this Notebook and check to see if I did my algebra right! (b is the column vector [3,5,-1]^T.)"
   ]
  },
  {
   "cell_type": "code",
   "execution_count": null,
   "id": "d1bfa34e-2e05-4a4c-93bb-afde0a50f20f",
   "metadata": {},
   "outputs": [],
   "source": [
    "# code here"
   ]
  },
  {
   "attachments": {},
   "cell_type": "markdown",
   "id": "c13a759b-1c6c-426c-8347-329f63e6c38d",
   "metadata": {},
   "source": [
    "## in-class problem\n",
    "Larry Page and Sergey Brin, co-founders of Google, were trying to figure out the best way to sort the results of a web search. The best results should come first, but how can one systematically decide what is best?\n",
    "\n",
    "Here is the basic idea they settled on. Let's imagine the internet has four webpages, A, B, C, and D. Webpage A has three links on it, one to each of B, C, and D. So, if you randomly follow one of those links, there is a 1/3 chance you land on webpage B, 1/3 on C, 1/3 on D. Webpage B has two links, one to C and one to D. Webpage C has one link, to A. Webpage D has two links, to A and C. This is depicted below:\n",
    "<div>\n",
    "<img src=\"PageRankProbs.jpeg\" width=\"500\"/>\n",
    "</div>\n",
    "If you start on Page A and randomly choose a link on the page, where will you go next? We can write this as a matrix problem:\n",
    "    $$\\begin{bmatrix}\n",
    "        0 & 0 & 1 & \\frac{1}{2}\\\\\n",
    "        \\frac{1}{3} & 0 & 0 & 0\\\\\n",
    "        \\frac{1}{3} & \\frac{1}{2} & 0 & \\frac{1}{2}\\\\\n",
    "        \\frac{1}{3} & \\frac{1}{2} & 0 & 0\\\\\n",
    "    \\end{bmatrix}\n",
    "    \\begin{bmatrix}\n",
    "        P_\\text{A}\\\\\n",
    "        P_\\text{B}\\\\\n",
    "        P_\\text{C}\\\\\n",
    "        P_\\text{D}\n",
    "    \\end{bmatrix}_\\text{old}\n",
    "    =\n",
    "    \\begin{bmatrix}\n",
    "        P_\\text{A}\\\\\n",
    "        P_\\text{B}\\\\\n",
    "        P_\\text{C}\\\\\n",
    "        P_\\text{D}\n",
    "    \\end{bmatrix}_\\text{new}\n",
    "$$\n",
    "where the vector P represents the probabilities that you are at a given page. We might assume we know exactly where we are at first, so maybe the first iteration has $P_\\text{A}=1$ and $P_\\text{B}=P_\\text{C}=P_\\text{D}=0$. With repeated multiplications by the matrix, the probabilities change. Surprisingly, it converges to a constant value (at least in this case. PageRank, at least back in the 90's, was little more than the ranking of the probabilities after going through many many link clicks.\n",
    "\n",
    "1. Implement this \"probability matrix\" into NumPy. It will be included as a input to a function.\n",
    "2. Write a function that takes as inputs: a matrix A, a starting vector v, and a count N. We want these to be generic inputs, not the values above. The function multiplies A*v. Then multiplies that result by A (i.e., A*(A*v)). Then multiplies that by A... then multiplies that by A... then multiplies that by A... N times. The output is the vector after being multiplied A times. Probably a for loop."
   ]
  },
  {
   "cell_type": "code",
   "execution_count": null,
   "id": "88da3a88-d433-4fd5-89e3-c98a10ee32d8",
   "metadata": {},
   "outputs": [],
   "source": [
    "# code here"
   ]
  },
  {
   "cell_type": "markdown",
   "id": "bf563699-89ce-469a-8efa-c6900f92cebc",
   "metadata": {},
   "source": [
    "## A little preview of your linear algebra class\n",
    "PageRank isn't a gimmick, and actually it isn't even very novel... a lot of folks did the exact same analysis before Page and Brin, just applied to different fields. It turns out that the vector you found above is actually a property of the matrix... something NumPy could tell you readily:"
   ]
  },
  {
   "cell_type": "code",
   "execution_count": null,
   "id": "349047d3-f137-47f6-baf2-95a763f543fe",
   "metadata": {},
   "outputs": [],
   "source": [
    "# code added later"
   ]
  }
 ],
 "metadata": {
  "kernelspec": {
   "display_name": "Python 3 (ipykernel)",
   "language": "python",
   "name": "python3"
  },
  "language_info": {
   "codemirror_mode": {
    "name": "ipython",
    "version": 3
   },
   "file_extension": ".py",
   "mimetype": "text/x-python",
   "name": "python",
   "nbconvert_exporter": "python",
   "pygments_lexer": "ipython3",
   "version": "3.12.4"
  }
 },
 "nbformat": 4,
 "nbformat_minor": 5
}
