{
 "cells": [
  {
   "cell_type": "markdown",
   "id": "a3012aa3-8fde-4e39-8f08-8a724304e32b",
   "metadata": {},
   "source": [
    "# Dictionaries -- MCEN 1030 -- 22 Oct\n",
    "Let's introduce a \"Dictionary\" in Python"
   ]
  },
  {
   "cell_type": "markdown",
   "id": "a07ef050-d54e-412e-9c57-7b5076b91dd2",
   "metadata": {},
   "source": [
    "## Reminder: lists\n",
    "\n",
    "Python creates lists like so:"
   ]
  },
  {
   "cell_type": "code",
   "execution_count": null,
   "id": "96e7c53c-edb4-4ca7-8be3-e7512dab52c3",
   "metadata": {},
   "outputs": [],
   "source": [
    "fellowship=['Aragorn','Boromir','Gandalf','Gimli','Legolas','Frodo','Sam','Merry','Pippin']\n",
    "race=['Human','Human','Maia','Dwarf','Elf','Hobbit','Hobbit','Hobbit','Fool of a Took']"
   ]
  },
  {
   "cell_type": "markdown",
   "id": "c8ac94bd-38d7-49d5-bd34-db7e8fb40d7f",
   "metadata": {},
   "source": [
    "Quick exercise: Let's count how many hobbits are in the second list"
   ]
  },
  {
   "cell_type": "code",
   "execution_count": null,
   "id": "b95a07e6-652a-4003-a5f7-cc8b6c962278",
   "metadata": {},
   "outputs": [],
   "source": [
    "# add some code here"
   ]
  },
  {
   "cell_type": "markdown",
   "id": "ae65a3ad-6019-4737-8386-934f3d154d3f",
   "metadata": {},
   "source": [
    "If we are careful in their construction, we can make multiple lists like the above correlated such that we can look up information, e.g. to find that Sam is a Hobbit. But there is an unfortunate hurdle: we have to figure out which index holds the information we need.\n",
    "\n",
    "Let's write some code to achieve that goal: go through the list of fellowship members, figure out the index associated with the person of interest, and then use that index to determine whether they are a Human, Dwarf, etc."
   ]
  },
  {
   "cell_type": "code",
   "execution_count": null,
   "id": "db1d6ba3-c148-477e-95a8-b169d8537997",
   "metadata": {},
   "outputs": [],
   "source": [
    "person_of_interest='Sam'\n",
    "# add some code:"
   ]
  },
  {
   "cell_type": "markdown",
   "id": "5e9a6ce5-de25-4f5b-8037-8e646ebe9b7d",
   "metadata": {},
   "source": [
    "## A better way: a Dictionary\n",
    "\n",
    "A basic dictionary achieves the following goal: instead of requiring an index, we provide a \"key\", such as 'Sam', and then Python will look up the associated value, 'Hobbit'. Here is how to make one:"
   ]
  },
  {
   "cell_type": "code",
   "execution_count": null,
   "id": "7f901148-c30a-4e9a-bc7c-b8fef4ca6c85",
   "metadata": {},
   "outputs": [],
   "source": [
    "fellowship={} # initializes an empty dictionary \n",
    "\n",
    "fellowship['Aragorn'] = 'Human' # here, 'Aragorn' is the key, 'Human' is the value\n",
    "fellowship['Boromir'] = 'Human'\n",
    "fellowship['Gandalf'] = 'Maia'\n",
    "fellowship['Gimli'] = 'Dwarf'\n",
    "fellowship['Legolas'] = 'Elf'\n",
    "fellowship['Frodo'] = 'Hobbit'\n",
    "fellowship['Sam'] = 'Hobbit'\n",
    "fellowship['Merry'] = 'Hobbit'\n",
    "fellowship['Pippin'] = 'Fool of a Took'\n",
    "# the above includes all the same information as the lists"
   ]
  },
  {
   "cell_type": "markdown",
   "id": "4c9c4958-d995-4cff-bba0-f5c76de148f9",
   "metadata": {},
   "source": [
    "... and then we can look up things in that dictionary by keyword, rather than having to look up the index number and then look up the thing."
   ]
  },
  {
   "cell_type": "code",
   "execution_count": null,
   "id": "221b8685-7124-471b-9e74-2abded62449c",
   "metadata": {},
   "outputs": [],
   "source": [
    "fellowship['Sam'] # looks up by key"
   ]
  },
  {
   "cell_type": "markdown",
   "id": "f3781ef4-d849-4f33-a1a0-cd7ae1848066",
   "metadata": {},
   "source": [
    "To see all the keys:"
   ]
  },
  {
   "cell_type": "code",
   "execution_count": null,
   "id": "b09d8d35-668c-44d6-bdcd-aacd4aed83ac",
   "metadata": {},
   "outputs": [],
   "source": [
    "fellowship.keys()"
   ]
  },
  {
   "cell_type": "markdown",
   "id": "ea5fe8b0-1510-4364-898c-95f13a0367d5",
   "metadata": {},
   "source": [
    "or values:"
   ]
  },
  {
   "cell_type": "code",
   "execution_count": null,
   "id": "676025f3-67bd-47a0-8c04-ec19497ca3c8",
   "metadata": {},
   "outputs": [],
   "source": [
    "fellowship.values()"
   ]
  },
  {
   "cell_type": "markdown",
   "id": "92032659-74a2-4207-a5e8-11041222667f",
   "metadata": {},
   "source": [
    "or the whole dictionary:"
   ]
  },
  {
   "cell_type": "code",
   "execution_count": null,
   "id": "df60408a-fb6f-4e36-a9d2-02fdbd9a9601",
   "metadata": {},
   "outputs": [],
   "source": [
    "fellowship"
   ]
  },
  {
   "cell_type": "markdown",
   "id": "085ce9a5-db42-42ba-9808-840e254f5889",
   "metadata": {},
   "source": [
    "FYI There is not a direct way to turn the dictionary back into a list, but there are creative workarounds, e.g."
   ]
  },
  {
   "cell_type": "code",
   "execution_count": null,
   "id": "d6f8523d-12e8-439b-aeeb-048c48e8bd62",
   "metadata": {},
   "outputs": [],
   "source": [
    "members=[x for x in fellowship.keys()]\n",
    "print(members[3])"
   ]
  },
  {
   "cell_type": "markdown",
   "id": "c13a759b-1c6c-426c-8347-329f63e6c38d",
   "metadata": {},
   "source": [
    "## in-class problem\n",
    "In the cell below, I have created two dictionaries, both with city names as keys. The dictionary \"population\" includes the city populations, and \"area\" includes the geographical sizes of the cities in square miles. \n",
    "\n",
    "In the cell that follows, you will write a function that contains one input: the \"key\" for the city of interest. The output will be the population density, measured in folks/square mile"
   ]
  },
  {
   "cell_type": "code",
   "execution_count": null,
   "id": "f2418d5f-9e72-4760-83d3-beaf78fe344e",
   "metadata": {},
   "outputs": [],
   "source": [
    "population={}\n",
    "area={}\n",
    "population['Boulder'] = 105156\n",
    "area['Boulder'] = 25.7\n",
    "population['Colorado Springs'] = 478961\n",
    "area['Colorado Springs'] = 186.1\n",
    "population['Denver'] = 715522\n",
    "area['Denver'] = 154.9"
   ]
  },
  {
   "cell_type": "code",
   "execution_count": null,
   "id": "e4eae960-52b6-4dad-9301-f6bf840e17c9",
   "metadata": {},
   "outputs": [],
   "source": [
    "# add some code down here, for a function called \"pop_density\" that takes three inputs\n",
    "# for the two dictionaries and the key word\n",
    "# the function should return the population density, in people/square mile\n"
   ]
  }
 ],
 "metadata": {
  "kernelspec": {
   "display_name": "Python 3 (ipykernel)",
   "language": "python",
   "name": "python3"
  },
  "language_info": {
   "codemirror_mode": {
    "name": "ipython",
    "version": 3
   },
   "file_extension": ".py",
   "mimetype": "text/x-python",
   "name": "python",
   "nbconvert_exporter": "python",
   "pygments_lexer": "ipython3",
   "version": "3.12.4"
  }
 },
 "nbformat": 4,
 "nbformat_minor": 5
}
