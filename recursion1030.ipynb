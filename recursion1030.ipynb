{
 "cells": [
  {
   "cell_type": "markdown",
   "id": "b834af55-8263-48b4-90bb-8438fdfb32be",
   "metadata": {},
   "source": [
    "# Recursion -- MCEN 1030 -- 24 Oct\n",
    "Let's briefly introduce the idea of \"Recursion\", one of the most delightful concepts in computer science (albeit it takes a special kind of problem to be useful)."
   ]
  },
  {
   "cell_type": "markdown",
   "id": "a1dd4289-239b-4681-84e0-a941b3174c66",
   "metadata": {},
   "source": [
    "## Using a for loop\n",
    "\n",
    "Let's write a function that computes the factorial of an integer $N$, e.g. if $N=5$, the function would return $ 5! = 5\\cdot 4\\cdot 3\\cdot 2\\cdot 1\\cdot=120$. We could write it with a for loop, let's try that first to get warmed up:"
   ]
  },
  {
   "cell_type": "code",
   "execution_count": 29,
   "id": "7d59ddcc-e2fe-4d2d-9161-4f4b6c1777e6",
   "metadata": {},
   "outputs": [],
   "source": [
    "def facto_for(N):\n",
    "    pass # this just keeps the code from returning errors until you fill in the details."
   ]
  },
  {
   "cell_type": "markdown",
   "id": "87646945-cda6-4c5f-b10b-d47a80ddd477",
   "metadata": {},
   "source": [
    "## Basic idea of recursion\n",
    "\n",
    "Let's try another approach:\n",
    "- Call N=1 the base case, and we will explicitly code the return: 1\n",
    "- For all N>1, we will code in a function call to... the same function, but with input N-1. What?\n",
    "- For, say, N=5, we call it manually, and then the function calls itself with an input 4, then it calls itself with input 3, then it calls itself with input 2, then it calls itself with input 1, and it finally can propagate that information back up to the original call.\n",
    "\n",
    "There is no way this works. Too gimmicky. Let's try it:"
   ]
  },
  {
   "cell_type": "code",
   "execution_count": null,
   "id": "2176793f-8d68-4473-a1c5-63eb9c9ef470",
   "metadata": {},
   "outputs": [],
   "source": [
    "# code here"
   ]
  },
  {
   "cell_type": "markdown",
   "id": "7c25e438-9446-44e0-8be7-a301d70cb90b",
   "metadata": {},
   "source": [
    "## Another example\n",
    "\n",
    "Let's write a function that returns the Nth Fibonnaci Number. The Fibonacci Series is: 1, 1, 2, 3, 5, ...\n",
    "\n",
    "The rule is:"
   ]
  },
  {
   "cell_type": "code",
   "execution_count": 34,
   "id": "6e1b5f9b-e41c-4e2c-9049-47b3257a84f8",
   "metadata": {},
   "outputs": [],
   "source": [
    "# code here"
   ]
  }
 ],
 "metadata": {
  "kernelspec": {
   "display_name": "Python 3 (ipykernel)",
   "language": "python",
   "name": "python3"
  },
  "language_info": {
   "codemirror_mode": {
    "name": "ipython",
    "version": 3
   },
   "file_extension": ".py",
   "mimetype": "text/x-python",
   "name": "python",
   "nbconvert_exporter": "python",
   "pygments_lexer": "ipython3",
   "version": "3.12.4"
  }
 },
 "nbformat": 4,
 "nbformat_minor": 5
}
