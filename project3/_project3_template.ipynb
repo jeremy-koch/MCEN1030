{
 "cells": [
  {
   "cell_type": "markdown",
   "id": "c005af5c-eadb-4537-b8b5-9a943549df7a",
   "metadata": {},
   "source": [
    "# Project 3: SciPy for sound analysis -- MCEN 1030\n",
    "\n",
    "## Name:\n",
    "\n",
    "## Sound file: _.WAV"
   ]
  },
  {
   "cell_type": "code",
   "execution_count": null,
   "id": "06a36129-5918-425a-9ac2-f7f6c977be12",
   "metadata": {},
   "outputs": [],
   "source": [
    "# import packages you'll need and the WAV file, turning it into a numpy array"
   ]
  },
  {
   "cell_type": "code",
   "execution_count": null,
   "id": "39aab465-a78e-4d6c-b22b-1f03b78ff029",
   "metadata": {},
   "outputs": [],
   "source": [
    "# create the \"short-time Fourier Transform\" plot"
   ]
  },
  {
   "cell_type": "markdown",
   "id": "39da5873-9091-47ee-a9b9-66114616f9af",
   "metadata": {},
   "source": [
    "Based on the figure, what is the main concerning frequency? What are some of the less-prominent frequencies that you think may be part of the annoying whistle? All of these are just estimates based on the plot above.\n",
    "\n",
    "Main:\n",
    "\n",
    "Others:"
   ]
  },
  {
   "cell_type": "code",
   "execution_count": null,
   "id": "ee46bc49-16fa-490b-8f90-088c3c04fbf9",
   "metadata": {},
   "outputs": [],
   "source": [
    "# It may turn out that the \"others\" are not worth worrying about. Let's check.\n",
    "# Figure out how to look at the power at _one_time_ in the above plot -- you'll just be looking at part of the 2D array.\n",
    "# Plot power vs frequency at a time that is part of the \"silent\" part of the file.\n",
    "# You may see some erratic stuff near zero too... it's probably not worth worrying about."
   ]
  },
  {
   "cell_type": "markdown",
   "id": "6e5b1060-37d9-4cbe-b7ea-4da74961dd3a",
   "metadata": {},
   "source": [
    "Based on the figure, is the power for the \"other\" frequencies more than 10% of the \"main\" frequency?\n",
    "\n",
    "What do you think?:"
   ]
  },
  {
   "cell_type": "code",
   "execution_count": null,
   "id": "ca42ed29-9231-4437-9ffc-86bbac7cfa41",
   "metadata": {},
   "outputs": [],
   "source": [
    "# Regardless of the above, we are just going to focus on the \"main\" frequency.\n",
    "# Write code here that will zero out the problematic frequency component for all times.\n",
    "# You do NOT have to be entirely systematic... there will be some guess-and-check involved,\n",
    "# and perhaps running and re-running the cells, checking plots over and over again.\n",
    "\n",
    "# Due to the discrete nature of this calculation, the \"main\" frequency might occur at a handful of neighboring frequencies!\n",
    "\n",
    "y_mod = np.copy(y) # use this to initialize the modified array"
   ]
  },
  {
   "cell_type": "code",
   "execution_count": null,
   "id": "664e7d4d-e438-484d-b804-241d85a92835",
   "metadata": {},
   "outputs": [],
   "source": [
    "# Once you think you've eliminated the bad frequencies, create a new plt.pcolormesh here.\n",
    "# Shouldn't see that prominent line."
   ]
  },
  {
   "cell_type": "markdown",
   "id": "4e4bd788-9c1d-4ebf-9712-dbb190a67a41",
   "metadata": {},
   "source": [
    "Describe your process for eliminating the bad frequencies above. \n",
    "\n",
    "What did you do?:"
   ]
  },
  {
   "cell_type": "code",
   "execution_count": null,
   "id": "3d60cb78-504d-416a-a25f-f42075ac725c",
   "metadata": {},
   "outputs": [],
   "source": [
    "# Then do the \"inverse short-time Fourier Transform\" on this y_mod to regenerate the audio data, whistle-free."
   ]
  },
  {
   "cell_type": "code",
   "execution_count": null,
   "id": "34145e09-8b10-4300-976f-08c3977ff286",
   "metadata": {},
   "outputs": [],
   "source": [
    "# If you'd like, you can listen to it on Jupyter\n",
    "from IPython.display import Audio\n",
    "# Audio(audio_data, rate=sample_rate) # uncomment and modify the variable names to hear the old version\n",
    "# Audio(audio_data, rate=sample_rate) # ... and new version"
   ]
  }
 ],
 "metadata": {
  "kernelspec": {
   "display_name": "Python 3 (ipykernel)",
   "language": "python",
   "name": "python3"
  },
  "language_info": {
   "codemirror_mode": {
    "name": "ipython",
    "version": 3
   },
   "file_extension": ".py",
   "mimetype": "text/x-python",
   "name": "python",
   "nbconvert_exporter": "python",
   "pygments_lexer": "ipython3",
   "version": "3.12.2"
  }
 },
 "nbformat": 4,
 "nbformat_minor": 5
}
