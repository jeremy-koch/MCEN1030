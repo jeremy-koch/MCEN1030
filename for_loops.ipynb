{
 "cells": [
  {
   "cell_type": "markdown",
   "id": "9ec0aa92-da35-4ee0-ba1a-677a8c38ce81",
   "metadata": {},
   "source": [
    "# for loops -- MCEN 1030 -- 17 Oct\n",
    "Let's take a look at for loops, and talk about some special commands."
   ]
  },
  {
   "cell_type": "markdown",
   "id": "611b79a0-b886-40b8-8758-b7ba77afcec7",
   "metadata": {},
   "source": [
    "## Basic idea\n",
    "\n",
    "The structure is:  \n",
    "``for (variable name) in (list or variable referring to list)``  \n",
    "``    (do something) # whitespace on the left``  \n",
    "``    # no need for an end statement, it ends when the whitespace ends!``"
   ]
  },
  {
   "cell_type": "code",
   "execution_count": 1,
   "id": "5c34c458-885d-4b5a-9b04-ee3bce258503",
   "metadata": {},
   "outputs": [
    {
     "name": "stdout",
     "output_type": "stream",
     "text": [
      "red green blue\n"
     ]
    }
   ],
   "source": [
    "\n",
    "# create a variable called list that includes five or six animals\n",
    "# write a for loop that goes through the list and prints each element with \"an animal:\" in front\n",
    "# e.g. an animal: hawk\n",
    "i = 'green'\n",
    "print('red','green',\"blue\")"
   ]
  },
  {
   "cell_type": "markdown",
   "id": "96c44c15-f5f5-45c6-93cb-ecde698f4844",
   "metadata": {},
   "source": [
    "## Iterators\n",
    "\n",
    "In native python, we can automatically create lists of numbers via:\n",
    "* ``range(N)   # creates a list from 0 to N-1``\n",
    "* ``range(M,N) # creates a list from M to N-1``\n",
    "* ``range(M,N,a) # creates a list from M to N-1 in steps of a``\n",
    "\n",
    "(We will use a package called numpy later, which will help us do math with arrays, and the command will be a little bit different)"
   ]
  },
  {
   "cell_type": "code",
   "execution_count": null,
   "id": "1607426e-33d1-4b34-abea-c4de8b9625fd",
   "metadata": {},
   "outputs": [],
   "source": [
    "# create a list of numbers that starts with 10 and counts down by ones until it reaches zero\n",
    "# t=???\n",
    "\n",
    "print(t[0])\n",
    "print(t[1])\n",
    "print(t[-1])\n",
    "print(t[len(t)])"
   ]
  },
  {
   "cell_type": "markdown",
   "id": "19f692a0-9fd3-43e1-be7a-4caba1b3623c",
   "metadata": {},
   "source": [
    "## Two special keywords\n",
    "\n",
    "Inside a loop...\n",
    "* ``continue`` will immediately take you back to the ``for`` and move on to the next value in the list\n",
    "* ``break`` will immediately take you to the end of the loop, skipping the rest of the list\n",
    "\n",
    "Let's try them out, and let's also include a new package..."
   ]
  },
  {
   "cell_type": "code",
   "execution_count": null,
   "id": "ef6daac3-d0ac-4045-a6df-cc2f64bf70da",
   "metadata": {},
   "outputs": [],
   "source": [
    "for i in [1,2,3,4]:\n",
    "    if i==3:\n",
    "        continue\n",
    "    print(i)"
   ]
  },
  {
   "cell_type": "code",
   "execution_count": null,
   "id": "4f438cb7-a40a-4e2e-ad4a-019c5d6bfdc9",
   "metadata": {},
   "outputs": [],
   "source": [
    "# we will use the list you created above for t, so make sure to execute that code block first\n",
    "\n",
    "import time # a package that contains a lot of time-related tools\n",
    "\n",
    "for ???\n",
    "    time.sleep(1) # this command makes the execution pause for 1 second\n",
    "    \n",
    "    # if t is 1, print ``countdown canceled'' and break\n",
    "\n",
    "    # otherwise, print the value of t"
   ]
  },
  {
   "cell_type": "markdown",
   "id": "8cda747d-5898-416a-92b5-fe672abfb144",
   "metadata": {},
   "source": [
    "## in-class problem\n",
    "\n",
    "Let's do problem 4 from the exam, but in python. In python ``x % n`` is \"x mod n\", e.g. ``19 % 4`` returns ``3``.\n",
    "\n",
    "Write a function ``sum4and5(N)`` that sums all the positive numbers (1, 2, 3, 4,...) that are divisible by 4 or 5 up to a certain value, N. The output is the sum. In python, \"elseif\" is \"elif\", and the elif is idented to the same level as the if.\n",
    "\n",
    "Use this cell down here:"
   ]
  },
  {
   "cell_type": "code",
   "execution_count": null,
   "id": "8d3a9eab-9935-43b3-bce2-15a1042d5d0a",
   "metadata": {},
   "outputs": [],
   "source": [
    "# some skeleton code to get you started\n",
    "def sum4and5(N):"
   ]
  },
  {
   "cell_type": "markdown",
   "id": "376fcd11-1a3f-4dd9-9479-590f3184a09c",
   "metadata": {},
   "source": [
    "We will be submitting this to Gradescope, another integration within Canvas, for autograding. If working within a notebook like Colab or Jupyter, it takes a couple steps, but it's not too bad, I promise.\n",
    "\n",
    "* Step one is to download the code. In Colab, this can be done via File -> Download -> Download .py. In Jupyter it is File -> Save and Export Notebook As... -> Executable Script.\n",
    "* Then go to your downloads folder and open the *.py file. For me, it immediately opens as a text file. You might need to right click and choose \"open with notepad\" or something.\n",
    "* Once you are looking at the contents, delete all the extra stuff besides your function. So, just keep from the def line to the return line. Make sure the function is called sum4and5. Save and close.\n",
    "* Then rename the file on your computer to ``inclass_17oct.py``.\n",
    "\n",
    "In the future we might use an IDE that will circumvent most of these steps."
   ]
  }
 ],
 "metadata": {
  "kernelspec": {
   "display_name": "Python 3 (ipykernel)",
   "language": "python",
   "name": "python3"
  },
  "language_info": {
   "codemirror_mode": {
    "name": "ipython",
    "version": 3
   },
   "file_extension": ".py",
   "mimetype": "text/x-python",
   "name": "python",
   "nbconvert_exporter": "python",
   "pygments_lexer": "ipython3",
   "version": "3.12.4"
  }
 },
 "nbformat": 4,
 "nbformat_minor": 5
}
