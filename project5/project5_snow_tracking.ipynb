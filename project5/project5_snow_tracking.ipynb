{
  "nbformat": 4,
  "nbformat_minor": 0,
  "metadata": {
    "colab": {
      "provenance": []
    },
    "kernelspec": {
      "name": "python3",
      "display_name": "Python 3"
    },
    "language_info": {
      "name": "python"
    }
  },
  "cells": [
    {
      "cell_type": "markdown",
      "source": [
        "# Project 5 -- TrackPy -- MCEN 1030\n",
        "\n",
        "Modified from the TrackPy walthrough found here: http://soft-matter.github.io/trackpy/dev/tutorial/walkthrough.html\n",
        "\n",
        "\n"
      ],
      "metadata": {
        "id": "SsbfuqqIgtPh"
      }
    },
    {
      "cell_type": "markdown",
      "source": [
        "## Imports"
      ],
      "metadata": {
        "id": "2UU_3cMHsB7f"
      }
    },
    {
      "cell_type": "code",
      "execution_count": null,
      "metadata": {
        "id": "Hw4JaTfIqd2L"
      },
      "outputs": [],
      "source": [
        "# run these first three cells once, they take some time!\n",
        "\n",
        "from __future__ import division, unicode_literals, print_function  # for compatibility with Python 2 and 3\n",
        "\n",
        "import matplotlib as mpl\n",
        "import matplotlib.pyplot as plt\n",
        "\n",
        "%matplotlib inline\n",
        "\n",
        "mpl.rc('figure',  figsize=(10, 5))\n",
        "mpl.rc('image', cmap='gray')"
      ]
    },
    {
      "cell_type": "code",
      "source": [
        "import numpy as np\n",
        "import pandas as pd\n",
        "from pandas import DataFrame, Series  # for convenience\n",
        "\n",
        "!pip install pims\n",
        "!pip install trackpy\n",
        "import pims\n",
        "import trackpy as tp"
      ],
      "metadata": {
        "id": "moUQVhyPqlTZ"
      },
      "execution_count": null,
      "outputs": []
    },
    {
      "cell_type": "code",
      "source": [
        "@pims.pipeline\n",
        "def gray(image):\n",
        "    return image[:, :, 1]  # Take just the green channel\n",
        "\n",
        "frames = gray(pims.open('/content/snow2.mp4')) # the video I took last night"
      ],
      "metadata": {
        "id": "1fWP-iVkq07H"
      },
      "execution_count": null,
      "outputs": []
    },
    {
      "cell_type": "markdown",
      "source": [
        "## \"Frames\"\n",
        "\n",
        "In addition to trackpy, we have also imported \"pims\": Python IMage Sequence. With thispackage we are able to create an array of images, and can access, say, the zeroth element of the array with frames[0]."
      ],
      "metadata": {
        "id": "I2C6M30bg-ZL"
      }
    },
    {
      "cell_type": "code",
      "source": [
        "frames # will tell you some technical detail about the frames \"array\", including the size"
      ],
      "metadata": {
        "id": "E5VSoMrFrAwM"
      },
      "execution_count": null,
      "outputs": []
    },
    {
      "cell_type": "code",
      "source": [
        "plt.imshow(frames[0]); # can see the zeroth element of the array, an image"
      ],
      "metadata": {
        "id": "a0fsPsGSrDtg"
      },
      "execution_count": null,
      "outputs": []
    },
    {
      "cell_type": "markdown",
      "source": [
        "We will discuss the image size in pixels later (i.e., \"'x' size\" above) and the fact that the origin in this figure is in the top-left of the image, with y increasing as you go down."
      ],
      "metadata": {
        "id": "PYs2ysBVn2ad"
      }
    },
    {
      "cell_type": "markdown",
      "source": [
        "## Identifying \"features\"\n",
        "\n",
        "We will examine just the zeroth frame, at first, and use the command \"locate\" to find \"features\" -- bright spots that we will track -- within the frame. The idea is to pick decent values for the parameters for this one frame, and then hopefully all the frames will be able to be processed with similar values.\n",
        "\n",
        "In the \"locate\" command below, the numerical value is an estimate of the diameter of the feature, in pixels. From above, you know the size of the image in the x and y directions. So, how big are the snowflakes?\n",
        "\n",
        "The \"annotate\" command takes the locations, stored in f, and plots them onto the frame, so you'll be able to see how it's looking. Don't try to be perfect... after all, the snowflakes are different size/different distances away. Err on the side of getting too many, and we'll refine later. It will be something like 150-200.\n",
        "\n"
      ],
      "metadata": {
        "id": "0nDIpF6PhquO"
      }
    },
    {
      "cell_type": "code",
      "source": [
        "f = tp.locate(frames[0], 3) # 3 is the diameter in pixels, choose something bigger than 3.\n",
        "\n",
        "tp.annotate(f, frames[0]);"
      ],
      "metadata": {
        "id": "MTwcxsW7rQib"
      },
      "execution_count": null,
      "outputs": []
    },
    {
      "cell_type": "markdown",
      "source": [
        "Here is the data you/TrackPy produced, just for the first frame:"
      ],
      "metadata": {
        "id": "GPHnykybnoPT"
      }
    },
    {
      "cell_type": "code",
      "source": [
        "f.head()  # shows the first few rows of data"
      ],
      "metadata": {
        "id": "BzqhpFtqnk9U"
      },
      "execution_count": null,
      "outputs": []
    },
    {
      "cell_type": "markdown",
      "source": [
        "## Refine the list\n",
        "\n",
        "One way to refine this list a bit is to look at the \"mass\" (basically the total brightness) of each feature. In our case I like the interpretation: the bright features are the ones that are going to be easiest to track, and so let's focus on them.\n",
        "\n",
        "Matplotlib has a way to plot the count vs mass, a histogram:"
      ],
      "metadata": {
        "id": "4eTiGnZxoMLf"
      }
    },
    {
      "cell_type": "code",
      "source": [
        "fig, ax = plt.subplots()\n",
        "ax.hist(f['mass'], bins=100)\n",
        "# we imported another new package, pandas.\n",
        "# Pandas lets you access data like it's a dictionary, here with key 'mass'.\n",
        "\n",
        "ax.set(xlabel='mass', ylabel='count');"
      ],
      "metadata": {
        "id": "P6wLCwfhrb66"
      },
      "execution_count": null,
      "outputs": []
    },
    {
      "cell_type": "markdown",
      "source": [
        "What is the minimum mass among the features you identified? (It will depend on your choice of diameter.)\n",
        "\n",
        "In the following, we will recreate the list using the \"minmass\" command... choose something bigger, to ignore the fainter objects. Not too big, you should still see 200 or so particles (and will also probably get the lamp post quite a few times)."
      ],
      "metadata": {
        "id": "-JrTEf0-snsy"
      }
    },
    {
      "cell_type": "code",
      "source": [
        "f = tp.locate(frames[0], 3, minmass=1) # adjust with your values of diameter and minmass\n",
        "tp.annotate(f, frames[0]);"
      ],
      "metadata": {
        "id": "wTYjOX71rkDu"
      },
      "execution_count": null,
      "outputs": []
    },
    {
      "cell_type": "markdown",
      "source": [
        "## Locate features in all the frames\n",
        "\n",
        "Now is where it gets interesting: \"batch\" is basically \"locate\" on the whole frame. If we include the diameter value and minmass value, we will look for snowflakes that match that criterion in every frame."
      ],
      "metadata": {
        "id": "XBi_cqHztIlw"
      }
    },
    {
      "cell_type": "code",
      "source": [
        "f = tp.batch(frames, 3, minmass=1, processes=1);\n",
        "# adjust with your diameter and minmass picks\n",
        "# Keep processes=1, else Colab crashes\n",
        "# (Otherwise it tries to do a parallel calculation and can't, I think)"
      ],
      "metadata": {
        "id": "HTUeZMDHr1ir"
      },
      "execution_count": null,
      "outputs": []
    },
    {
      "cell_type": "markdown",
      "source": [
        "... and then \"link\" will attempt to connect the snowflake locations based on a search size range: 5 is probably OK."
      ],
      "metadata": {
        "id": "GtUUACcgxtoj"
      }
    },
    {
      "cell_type": "code",
      "source": [
        "t = tp.link(f, 5, memory=3)"
      ],
      "metadata": {
        "id": "ldA4VxPVwWQi"
      },
      "execution_count": null,
      "outputs": []
    },
    {
      "cell_type": "markdown",
      "source": [
        "## Pruning the data a bit more\n",
        "\n",
        "We can maybe clean up the data set a bit more, removing information that is not going to help in our quest.\n",
        "\n",
        "One idea: Let's take a look at the feature size as a function of mass, to see if there is anything weird:"
      ],
      "metadata": {
        "id": "ywMOAEAP0Ilj"
      }
    },
    {
      "cell_type": "code",
      "source": [
        "plt.figure()\n",
        "tp.mass_size(t.groupby('particle').mean());"
      ],
      "metadata": {
        "id": "cu9tz-ABzrhO"
      },
      "execution_count": null,
      "outputs": []
    },
    {
      "cell_type": "code",
      "source": [
        "t2 = t[(t['size'] < 500.) & (t['ecc'] < 0.3)]\n",
        "# I notice a weird horizontal line somewhere, not at 500. Replace that value with something useful.\n",
        "# And also the \"eccentricity\" is a measure of how circular something is, with ecc=0 being a circle.\n",
        "# The second part of this removes all features that are weirdly shaped, keep it."
      ],
      "metadata": {
        "id": "aWNexHiS1b1V"
      },
      "execution_count": null,
      "outputs": []
    },
    {
      "cell_type": "markdown",
      "source": [
        "Compare the next two cells: before and after this pruning step"
      ],
      "metadata": {
        "id": "ctCGkBbx29eO"
      }
    },
    {
      "cell_type": "code",
      "source": [
        "plt.figure()\n",
        "tp.plot_traj(t);"
      ],
      "metadata": {
        "id": "-_MubhsO1kdR"
      },
      "execution_count": null,
      "outputs": []
    },
    {
      "cell_type": "code",
      "source": [
        "plt.figure()\n",
        "tp.plot_traj(t2);"
      ],
      "metadata": {
        "id": "N5nILK5t3CBX"
      },
      "execution_count": null,
      "outputs": []
    },
    {
      "cell_type": "markdown",
      "source": [
        "In the \"before\", you probably see a few almost-vertical lines on the right side of the image. What are they? And hopefully they are gone in the second."
      ],
      "metadata": {
        "id": "seB5V8V63dBd"
      }
    },
    {
      "cell_type": "markdown",
      "source": [
        "## Determining the snowflake speed\n",
        "\n",
        "There is a built-in command! The following calculates the average displacement of the particles (i.e., how much did they drift?) as a function of frame (i.e., time):"
      ],
      "metadata": {
        "id": "RdVVdmaD3nu1"
      }
    },
    {
      "cell_type": "code",
      "source": [
        "d = tp.compute_drift(t2)\n",
        "d.plot()\n",
        "plt.show()"
      ],
      "metadata": {
        "id": "3Dw8wSHkRQe_"
      },
      "execution_count": null,
      "outputs": []
    },
    {
      "cell_type": "markdown",
      "source": [
        "You should see a positive displacement in the y-direction and a negative displacement in the x-direction. Why? Hint: Look back at plt.imshow(frames[0]);\n",
        "\n",
        "---\n",
        "\n"
      ],
      "metadata": {
        "id": "qp6lUaYc3-xU"
      }
    },
    {
      "cell_type": "markdown",
      "source": [
        "With this, we are able to determine the physical speed of the snowflakes. Here are some numbers, see if you can figure it out:\n",
        "\n",
        "I estimate the diameter of the lamp post is 25 cm, and early we described the width of the image in pixels. How many cm per pixel?\n",
        "\n",
        "The framerate of my camera was 24 frames per second.\n",
        "\n",
        "How can we get a speed, in cm/s, from this information?\n",
        "\n",
        "And when you get your answer, is it reasonable?"
      ],
      "metadata": {
        "id": "x7_ZCUjj4iuH"
      }
    }
  ]
}