{
 "cells": [
  {
   "cell_type": "markdown",
   "id": "f287a55f-8aa8-43cc-b4cb-44af191712eb",
   "metadata": {},
   "source": [
    "# Passing Functions and Algorithms -- MCEN 1030 -- 5 Nov\n",
    "\n",
    "Today:\n",
    "- Function inputs can be any object, including other functions\n",
    "- lambda functions\n",
    "- In-class problem: an algorithm defined within a function"
   ]
  },
  {
   "attachments": {},
   "cell_type": "markdown",
   "id": "63b9d4c4-18ad-46e2-8c7c-5fb141b435b1",
   "metadata": {},
   "source": [
    "## Last week...\n",
    "\n",
    "We talked about object-oriented programming. In languages built on this paradigm, ostensibly everything is an \"object\": scalar variables, list variables, and even functions! A key consequence: we can pass functions to other functions.\n",
    "\n",
    "First, let's remind ourselves about creating new classes (i.e., a novel object type), and then demonstrate that classes can be passed to functions. Our class will be called circle, and it has three foundational properties: the (x,y) of the center, and a radius R. We will additionally program in methods for \"area\", \"perimeter\", \"min\" (the lowest y-value on the circle), and \"max\", the highest."
   ]
  },
  {
   "cell_type": "code",
   "execution_count": 89,
   "id": "0280bf2f-ee7b-44ca-b6e3-ccc0da1bfc99",
   "metadata": {},
   "outputs": [
    {
     "name": "stdout",
     "output_type": "stream",
     "text": [
      "5\n",
      "4\n"
     ]
    }
   ],
   "source": [
    "import numpy as np\n",
    "\n",
    "pi=np.pi\n",
    "\n",
    "class circ:\n",
    "    def __init__(self,x,y,R):\n",
    "        self.x=x\n",
    "        self.y=y\n",
    "        self.R=R\n",
    "\n",
    "        # self.area=pi*R**2\n",
    "    def area(self):\n",
    "        return pi*self.R**2\n",
    "    def perimeter(self):\n",
    "        return 2*pi*self.R\n",
    "    def min(self):\n",
    "        return self.y-self.R\n",
    "    def max(self):\n",
    "        return self.y+self.R\n",
    "\n",
    "u=circ(1,1,3) # once we get it programmed, u will be an example in this class\n",
    "print(u.max()) # "
   ]
  },
  {
   "cell_type": "markdown",
   "id": "84eef5ad-929e-475e-bedb-6e4fad1a4c43",
   "metadata": {},
   "source": [
    "## Objects from any class can be function input\n",
    "\n",
    "A quick demo, based on the above:"
   ]
  },
  {
   "cell_type": "code",
   "execution_count": 92,
   "id": "ef28ad0a-8057-4ace-be14-46ae2af21c48",
   "metadata": {},
   "outputs": [
    {
     "name": "stdout",
     "output_type": "stream",
     "text": [
      "7\n"
     ]
    }
   ],
   "source": [
    "def fxn_uses_circ(v):\n",
    "    return v.max()+3\n",
    "\n",
    "u=circ(1,1,3)\n",
    "out=fxn_uses_circ(u)\n",
    "print(out)"
   ]
  },
  {
   "cell_type": "markdown",
   "id": "94994ea0-659a-4e9a-bd26-d031ea797b51",
   "metadata": {},
   "source": [
    "## functions into functions\n",
    "\n",
    "Even more interesting is that we can pass functions as function arguments (provided the function is set up to accept function data types).\n",
    "\n",
    "Let's program a useless one to prove it. Define a function shift_sine(t,A,w,p,y_0) that, for array input t and scalars A,w,p,y_0 returns\n",
    "$$ y=A\\sin{(wt+p)}+y_0$$\n",
    "Then write a second function called averager(f,t,A,w,p,y_0) which has a function input f, and array input t, and three scalar constants A,w,p. You can call np.mean(...) to get the average withing this function."
   ]
  },
  {
   "cell_type": "code",
   "execution_count": 100,
   "id": "e7a068e0-7e5e-46f4-b2fd-3b5b19178211",
   "metadata": {},
   "outputs": [
    {
     "name": "stdout",
     "output_type": "stream",
     "text": [
      "3.0000019999999985\n"
     ]
    }
   ],
   "source": [
    "# code here\n",
    "# import numpy as np \n",
    "def shift_sine(t,A,w,p,y_0):\n",
    "    return A*np.sin(w*t+p)+y_0\n",
    "\n",
    "def averager(f,t,A,w,p,y_0):\n",
    "    y=f(t,A,w,p,y_0)\n",
    "    return np.mean(y)\n",
    "\n",
    "A=2\n",
    "w=2*pi\n",
    "p=pi/2\n",
    "t=np.linspace(0,1,1000000)\n",
    "y_0=3\n",
    "out=averager(shift_sine,t,A,w,p,y_0)\n",
    "print(out)"
   ]
  },
  {
   "cell_type": "markdown",
   "id": "ed1d997d-a7d6-4433-a93a-fab0533faa73",
   "metadata": {},
   "source": [
    "### lambda functions: a really neat tool in python\n",
    "\n",
    "In the last problem, it was clumsy to define a whole function, with the def and the return, just to do a basic calculation. In the case where we need to pass a basic theoretical equation to another function, we can't just pass a vector in it's place, but is there anything else we can do?\n",
    "\n",
    "A neat little shortcut is a lambda function, sometimes called a \"nameless\" function (though in this first example we are going to name it \"f\"). Try this code:"
   ]
  },
  {
   "cell_type": "code",
   "execution_count": 102,
   "id": "53b682f6-0d50-4f53-aa3c-f0154afcbbd8",
   "metadata": {},
   "outputs": [
    {
     "name": "stdout",
     "output_type": "stream",
     "text": [
      "5.0\n",
      "[ 0.  5. 10. 15.]\n"
     ]
    }
   ],
   "source": [
    "f = lambda x,y: np.sqrt(x**2+y**2)\n",
    "# two variables x,y: then the vectorized description\n",
    "\n",
    "print(f(3,4))\n",
    "print(f(np.array([0,3,6,9]),np.array([0,4,8,12])))"
   ]
  },
  {
   "cell_type": "markdown",
   "id": "4157fd3b-37b7-4b29-bbe7-281812a9004f",
   "metadata": {},
   "source": [
    "... and then program in $\\sin{(wt+p)}+y_0$. As a lambda function, and pass it to the other function above. Note your lambda function will have ____ inputs!"
   ]
  },
  {
   "cell_type": "code",
   "execution_count": 105,
   "id": "69d3b5f2-2a2a-411f-a9cc-9b00cec3184e",
   "metadata": {},
   "outputs": [
    {
     "name": "stdout",
     "output_type": "stream",
     "text": [
      "3.0015000000000005\n"
     ]
    }
   ],
   "source": [
    "# code here\n",
    "out=averager(lambda t,A,w,p,y_0: A*np.sin(w*t+p)+y_0,np.linspace(0,1,1000),3,2*pi,pi/6,3)\n",
    "print(out)"
   ]
  },
  {
   "cell_type": "markdown",
   "id": "47200932-4228-4483-8342-48b2dd2f51b2",
   "metadata": {},
   "source": [
    "## Problem (worked on together)\n",
    "\n",
    "Let's do an algorithm... we haven't done many of them. An algorithm is a list of steps that will systematically get us somewhere. It isn't necessarily just a list of operations... log this, then cosine it, then square it. We might need to include a step where, say, we do X if the number is positive but Y if the number is negative. But, if we can teach the computer the algorithm, it can do it very fast and get you some very useful results! \n",
    "\n",
    "### The bisection algorithm\n",
    "This algorithm will get us to the root of a function $f(x)$. We will write a function that takes a function f, defined via \"lambda\" as an input. We will also need to include bounds on our search, $a \\leq x \\leq c$.\n",
    "\n",
    "Last week we described a \"brute-force\" method, wherein we created list of values for $x$ and checked every one of them, and determined which had the lowest value, and that was (approximately) the root. Here is another idea, that is going to take a lot less computer time:\n",
    "\n",
    "**The algorithm:**   \n",
    "Suppose we know that $f(x)$ has exactly one root on an interval $a\\leq x\\leq c$, and we are interested in figuring out what that root is. For example, $f(x)=\\exp{x}-3$ will only equal zero at one location between $0\\leq x\\leq 5$.\n",
    "\n",
    "1. Calculate b=(a+c)/2\n",
    "2. Evaluate f(a), f(b), and f(c)\n",
    "3. Assuming we are correct in assuming exactly one root exists on the interval, we have three possibilities:\n",
    "   - If f(a)*f(b) < 0, the root is between a & b. (Because if f(a) and f(b) are the same sign, there can't be root between them.)\n",
    "   - Otherwise we know the root is between b & c.\n",
    "   - And technically we might get lucky that f(b) = 0, in which case x=b is the root.\n",
    "5. If...\n",
    "   - the root is between a & b, we redefine c=b (a new upper limit), then calculate a new b and f(b) and repeat.\n",
    "   - the root is between b & c, we redefine a=b (a new lower limit), then calculate a new b and f(b) and repeat.\n",
    "   - (You shouldn't need to recalculate all three points, actually you only will need to evaluate f(b).)\n",
    "6. Continue until |a-c| is small enough to be acceptable.\n",
    "\n"
   ]
  },
  {
   "cell_type": "code",
   "execution_count": 117,
   "id": "b49b0618-1302-4c1a-80ee-a833fc018819",
   "metadata": {},
   "outputs": [
    {
     "name": "stdout",
     "output_type": "stream",
     "text": [
      "No root found\n"
     ]
    }
   ],
   "source": [
    "# program up a function that performs this algorithm!\n",
    "def bisection(f,a,c,tol,max_iter=1000):\n",
    "    iteration=1\n",
    "    err=c-a\n",
    "    while err>tol:\n",
    "        b=(a+c)/2\n",
    "        if f(a)*f(b) < 0:\n",
    "            c=b\n",
    "        elif f(b)*f(c) < 0:\n",
    "            a=b\n",
    "        elif f(b) ==0:\n",
    "            return b\n",
    "        \n",
    "        iteration+=1\n",
    "        err=c-a\n",
    "        if iteration>max_iter:\n",
    "            return \"No root found\"\n",
    "    \n",
    "    b=(a+c)/2\n",
    "    return b\n",
    "\n",
    "out=bisection(lambda x: (x-1)*(x-2),0,10,.0000001)\n",
    "print(out)"
   ]
  }
 ],
 "metadata": {
  "kernelspec": {
   "display_name": "Python 3 (ipykernel)",
   "language": "python",
   "name": "python3"
  },
  "language_info": {
   "codemirror_mode": {
    "name": "ipython",
    "version": 3
   },
   "file_extension": ".py",
   "mimetype": "text/x-python",
   "name": "python",
   "nbconvert_exporter": "python",
   "pygments_lexer": "ipython3",
   "version": "3.12.4"
  }
 },
 "nbformat": 4,
 "nbformat_minor": 5
}
